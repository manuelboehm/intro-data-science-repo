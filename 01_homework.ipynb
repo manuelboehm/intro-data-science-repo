{
 "cells": [
  {
   "cell_type": "markdown",
   "metadata": {},
   "source": [
    "# Homework Day 01\n",
    "## Data Preparation Temperature Data"
   ]
  },
  {
   "cell_type": "code",
   "execution_count": null,
   "metadata": {},
   "outputs": [
    {
     "name": "stdout",
     "output_type": "stream",
     "text": [
      "        Datum  Bewoelkung  Temperatur  Windgeschwindigkeit  Wettercode\n",
      "0  2012-01-01         8.0      9.8250                   14        58.0\n",
      "1  2012-01-02         7.0      7.4375                   12         NaN\n",
      "2  2012-01-03         8.0      5.5375                   18        63.0\n",
      "3  2012-01-04         4.0      5.6875                   19        80.0\n",
      "4  2012-01-05         6.0      5.3000                   23        80.0\n"
     ]
    }
   ],
   "source": [
    "# import the pandas module\n",
    "import pandas as pd\n",
    "\n",
    "\n",
    "# read the data from the csv file\n",
    "data_weather = pd.read_csv(\"https://raw.githubusercontent.com/opencampus-sh/einfuehrung-in-data-science-und-ml/main/wetter.csv\")\n",
    "\n",
    "\n",
    "# print the first 5 rows of the data\n",
    "print(data_weather.head())"
   ]
  },
  {
   "cell_type": "markdown",
   "metadata": {},
   "source": [
    "### Mean Temperature"
   ]
  },
  {
   "cell_type": "code",
   "execution_count": 22,
   "metadata": {},
   "outputs": [
    {
     "name": "stdout",
     "output_type": "stream",
     "text": [
      "Die durchschnittliche Termpatur im Jahr beträgt 12.10 °C.\n"
     ]
    }
   ],
   "source": [
    "# data_wetter[Temperatur]\n",
    "import statistics\n",
    "\n",
    "\n",
    "# calculate the yearly mean of the temperature using pandas\n",
    "temp_mean_year = data_weather[\"Temperatur\"].mean()\n",
    "\n",
    "\n",
    "# print the yearly mean of the temperature (rounded to 2 decimal placesa and force 2 decimal places)\n",
    "print(f\"Die durchschnittliche Termpatur im Jahr beträgt {temp_mean_year:.2f} °C.\")\n",
    "\n",
    "\n",
    "\n",
    "\n"
   ]
  },
  {
   "cell_type": "markdown",
   "metadata": {},
   "source": [
    "### Mean Temperature in July (and May)"
   ]
  },
  {
   "cell_type": "code",
   "execution_count": 25,
   "metadata": {},
   "outputs": [
    {
     "name": "stdout",
     "output_type": "stream",
     "text": [
      "Die durchschnittliche Temperatur beträgt im Mai 15.24 °C und im Juli 20.75 °C\n"
     ]
    }
   ],
   "source": [
    "# convert the column \"Datum\" to datetime\n",
    "data_weather[\"Datum\"] = pd.to_datetime(data_weather[\"Datum\"])\n",
    "\n",
    "\n",
    "# filter the data for the month May and July\n",
    "data_weather_may = data_weather[data_weather[\"Datum\"].dt.month == 5]\n",
    "data_weather_july = data_weather[data_weather[\"Datum\"].dt.month == 7]\n",
    "\n",
    "\n",
    "# calculate the mean of the temperature for May and July using pandas\n",
    "temp_mean_may = data_weather_may[\"Temperatur\"].mean()\n",
    "temp_mean_july = data_weather_july[\"Temperatur\"].mean()\n",
    "\n",
    "\n",
    "# print the mean of the temperature for May and July\n",
    "print(f\"Die durchschnittliche Temperatur beträgt im Mai {temp_mean_may:.2f} °C und im Juli {temp_mean_july:.2f} °C\")\n"
   ]
  },
  {
   "cell_type": "markdown",
   "metadata": {},
   "source": [
    "### Comparison: Do July and May Differ Significantly Regarding Their Mean Temperature?\n",
    "(t-Test für unabhängige Stichproben)"
   ]
  },
  {
   "cell_type": "code",
   "execution_count": 27,
   "metadata": {},
   "outputs": [
    {
     "name": "stdout",
     "output_type": "stream",
     "text": [
      "Die Temperaturunterschiede sind signifikant (p-Wert = 0.0).\n"
     ]
    }
   ],
   "source": [
    "# import the ttest_ind function from the scipy.stats module\n",
    "from scipy.stats import ttest_ind\n",
    "\n",
    "\n",
    "# perform a t-test for the temperature in May and July\n",
    "t_stat, p_value = ttest_ind(data_weather_may[\"Temperatur\"], data_weather_july[\"Temperatur\"], equal_var=False)\n",
    "\n",
    "\n",
    "# print the p-value\n",
    "alpha = 0.05  # significance level of 5%\n",
    "if p_value < alpha: # alternative hypothesis: the temperature in May and July is significantly different\n",
    "    print(f\"Die Temperaturunterschiede sind signifikant (p-Wert = {round(p_value, 4)}).\")\n",
    "else: # null hypothesis: there is no significant difference in the temperature in May and July\n",
    "    print(f\"Es gibt keinen signifikanten Unterschied in der Durchschnittstemperatur (p-Wert = {round(p_value, 4)}).\")\n"
   ]
  }
 ],
 "metadata": {
  "kernelspec": {
   "display_name": "Python 3",
   "language": "python",
   "name": "python3"
  },
  "language_info": {
   "codemirror_mode": {
    "name": "ipython",
    "version": 3
   },
   "file_extension": ".py",
   "mimetype": "text/x-python",
   "name": "python",
   "nbconvert_exporter": "python",
   "pygments_lexer": "ipython3",
   "version": "3.12.1"
  }
 },
 "nbformat": 4,
 "nbformat_minor": 2
}
