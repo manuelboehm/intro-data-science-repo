{
 "cells": [
  {
   "cell_type": "markdown",
   "metadata": {},
   "source": [
    "# Testing python (DAY 01)\n",
    "## Calculating the mean"
   ]
  },
  {
   "cell_type": "code",
   "execution_count": 8,
   "metadata": {},
   "outputs": [
    {
     "name": "stdout",
     "output_type": "stream",
     "text": [
      "Der Mittelwert der Zahlen ist 4.410934744285714.\n"
     ]
    }
   ],
   "source": [
    "import statistics\n",
    "\n",
    "data = [1, 2, 3, 4, 5, 6, 9.87654321]\n",
    "average = statistics.mean(data)\n",
    "\n",
    "print(f\"Der Mittelwert der Zahlen ist {average}.\")"
   ]
  },
  {
   "cell_type": "markdown",
   "metadata": {},
   "source": [
    "## Data Preparation of Temperature Data"
   ]
  },
  {
   "cell_type": "code",
   "execution_count": 9,
   "metadata": {},
   "outputs": [
    {
     "name": "stdout",
     "output_type": "stream",
     "text": [
      "        Datum  Bewoelkung  Temperatur  Windgeschwindigkeit  Wettercode\n",
      "0  2012-01-01         8.0      9.8250                   14        58.0\n",
      "1  2012-01-02         7.0      7.4375                   12         NaN\n",
      "2  2012-01-03         8.0      5.5375                   18        63.0\n",
      "3  2012-01-04         4.0      5.6875                   19        80.0\n",
      "4  2012-01-05         6.0      5.3000                   23        80.0\n"
     ]
    }
   ],
   "source": [
    "import pandas as pd\n",
    "data_wetter = pd.read_csv(\"https://raw.githubusercontent.com/opencampus-sh/einfuehrung-in-data-science-und-ml/main/wetter.csv\")\n",
    "\n",
    "print(data_wetter.head())"
   ]
  },
  {
   "cell_type": "markdown",
   "metadata": {},
   "source": [
    "### Average Temperature"
   ]
  },
  {
   "cell_type": "code",
   "execution_count": 11,
   "metadata": {},
   "outputs": [
    {
     "name": "stdout",
     "output_type": "stream",
     "text": [
      "Die durchschnittliche Termpatur im Jahr beträgt 12.099585595540177.\n"
     ]
    }
   ],
   "source": [
    "# data_wetter[Temperatur]\n",
    "import statistics\n",
    "\n",
    "average_year = statistics.mean(data_wetter[\"Temperatur\"])\n",
    "\n",
    "print(f\"Die durchschnittliche Termpatur im Jahr beträgt {average_year}.\")"
   ]
  },
  {
   "cell_type": "markdown",
   "metadata": {},
   "source": [
    "### Average Temperature in July (and May)"
   ]
  },
  {
   "cell_type": "code",
   "execution_count": 15,
   "metadata": {},
   "outputs": [
    {
     "name": "stdout",
     "output_type": "stream",
     "text": [
      "Der durchschnittliche Temperaturwert für Juli beträgt           Datum  Bewoelkung  Temperatur  Windgeschwindigkeit  Wettercode\n",
      "182  2012-07-01         4.0     19.5125                   14         NaN\n",
      "183  2012-07-02         6.0     19.4375                   10         NaN\n",
      "184  2012-07-03         3.0     20.5375                   12         NaN\n",
      "185  2012-07-04         5.0     19.9500                   12         NaN\n",
      "186  2012-07-05         7.0     17.2625                   12        10.0\n",
      "...         ...         ...         ...                  ...         ...\n",
      "2595 2019-07-27         4.0     23.5375                   21         5.0\n",
      "2596 2019-07-28         3.0     23.3500                   14         5.0\n",
      "2597 2019-07-29         6.0     25.2500                    7        61.0\n",
      "2598 2019-07-30         7.0     20.7375                    8        61.0\n",
      "2599 2019-07-31         6.0     20.4500                    7        61.0\n",
      "\n",
      "[247 rows x 5 columns].\n",
      "Der durchschnittliche Temperaturwert für Mai beträgt           Datum  Bewoelkung  Temperatur  Windgeschwindigkeit  Wettercode\n",
      "121  2012-05-01         5.0     13.4125                   19         NaN\n",
      "122  2012-05-02         1.0     13.4500                   12         NaN\n",
      "123  2012-05-03         6.0     16.6000                    8         NaN\n",
      "124  2012-05-04         7.0     12.6500                   10        80.0\n",
      "125  2012-05-05         2.0     10.5000                    8         NaN\n",
      "...         ...         ...         ...                  ...         ...\n",
      "2534 2019-05-27         6.0     15.2625                   13         NaN\n",
      "2535 2019-05-28         6.0     13.1625                   12         NaN\n",
      "2536 2019-05-29         3.0     13.3625                    8         0.0\n",
      "2537 2019-05-30         7.0     14.0125                    9        61.0\n",
      "2538 2019-05-31         7.0     18.8500                   14         NaN\n",
      "\n",
      "[248 rows x 5 columns].\n"
     ]
    }
   ],
   "source": [
    "import pandas\n",
    "import statistics\n",
    "# print(data_wetter[\"Datum\"].dtype)\n",
    "\n",
    "data_wetter[\"Datum\"] = pd.to_datetime(data_wetter[\"Datum\"])\n",
    "\n",
    "# data_wetter_july = data_wetter[data_wetter[\"Datum\"].dt.month == 7]\n",
    "# data_wetter_may = data_wetter[data_wetter[\"Datum\"].dt.month == 7]\n",
    "\n",
    "average_july = data_wetter.loc[data_wetter[\"Datum\"].dt.month == 7] \n",
    "= statistics.mean(data_wetter[\"Temperatur\"])\n",
    "average_may = data_wetter.loc[data_wetter[\"Datum\"].dt.month == 5] \n",
    "\n",
    "print(f\"Der durchschnittliche Temperaturwert für Juli beträgt {average_july}.\")\n",
    "print(f\"Der durchschnittliche Temperaturwert für Mai beträgt {average_may}.\")\n"
   ]
  },
  {
   "cell_type": "markdown",
   "metadata": {},
   "source": [
    "### Comparison: Do July and May Differ Significantly Regarding Their Average Temperature?"
   ]
  },
  {
   "cell_type": "code",
   "execution_count": null,
   "metadata": {},
   "outputs": [],
   "source": []
  }
 ],
 "metadata": {
  "kernelspec": {
   "display_name": "Python 3",
   "language": "python",
   "name": "python3"
  },
  "language_info": {
   "codemirror_mode": {
    "name": "ipython",
    "version": 3
   },
   "file_extension": ".py",
   "mimetype": "text/x-python",
   "name": "python",
   "nbconvert_exporter": "python",
   "pygments_lexer": "ipython3",
   "version": "3.12.1"
  }
 },
 "nbformat": 4,
 "nbformat_minor": 2
}
