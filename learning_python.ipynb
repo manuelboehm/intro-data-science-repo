{
 "cells": [
  {
   "cell_type": "markdown",
   "metadata": {},
   "source": [
    "# Exercises for learning python\n",
    "https://www.youtube.com/watch?v=yE9v9rt6ziw&list=PLTjRvDozrdlxj5wgH4qkvwSOdHLOCx10f&index=4&t=3073s"
   ]
  },
  {
   "cell_type": "code",
   "execution_count": 3,
   "metadata": {},
   "outputs": [
    {
     "name": "stdout",
     "output_type": "stream",
     "text": [
      "2\n",
      "4\n",
      "6\n",
      "8\n",
      "We have 4 even numbers\n"
     ]
    }
   ],
   "source": [
    "# create list of even number between 1 and 10 and msg \"We have 4 even numbers\"\n",
    "n_numbers = 0\n",
    "for number in range(1, 10):\n",
    "    if number % 2 == 0:\n",
    "        print(number)\n",
    "        n_numbers += 1  # n_number = n_number +1\n",
    "print(f\"We have {n_numbers} even numbers\")"
   ]
  },
  {
   "cell_type": "code",
   "execution_count": null,
   "metadata": {},
   "outputs": [
    {
     "name": "stdout",
     "output_type": "stream",
     "text": [
      "Hi Manuel\n",
      "Welcome aboard\n"
     ]
    }
   ],
   "source": [
    "# creating custom functions\n",
    "def greet(first_name):\n",
    "    print(f\"Hi {first_name}\")\n",
    "    print(\"Welcome aboard\")\n",
    "\n",
    "# calling the function\n",
    "greet(\"Manuel\")\n",
    "\n",
    "# function with return value\n",
    "def get_greeting(name):\n",
    "    return f\"Hi {name}\"\n",
    "\n",
    "# calling the function\n",
    "message = get_greeting(\"Manuel)\")"
   ]
  },
  {
   "cell_type": "code",
   "execution_count": null,
   "metadata": {},
   "outputs": [
    {
     "name": "stdout",
     "output_type": "stream",
     "text": [
      "FizzBuzz\n"
     ]
    }
   ],
   "source": [
    "# Exercise fizz buzz algorithm\n",
    "\n",
    "# if input is divisible by 3, return Fizz, if input is divisible by 5, return Buzz, if input is divisible by 3 and 5, return FizzBuzz\n",
    "def fizz_buzz(input):\n",
    "    if (input % 3 == 0) and (input % 5 == 0):\n",
    "        return \"FizzBuzz\"\n",
    "    if input % 3 == 0:\n",
    "        return \"Fizz\"\n",
    "    if input % 5 == 0:\n",
    "        return \"Buzz\"\n",
    "    return input\n",
    "\n",
    "# print \n",
    "print(fizz_buzz(15))"
   ]
  }
 ],
 "metadata": {
  "kernelspec": {
   "display_name": "Python 3",
   "language": "python",
   "name": "python3"
  },
  "language_info": {
   "codemirror_mode": {
    "name": "ipython",
    "version": 3
   },
   "file_extension": ".py",
   "mimetype": "text/x-python",
   "name": "python",
   "nbconvert_exporter": "python",
   "pygments_lexer": "ipython3",
   "version": "3.12.1"
  }
 },
 "nbformat": 4,
 "nbformat_minor": 2
}
