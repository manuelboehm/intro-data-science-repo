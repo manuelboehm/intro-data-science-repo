{
 "cells": [
  {
   "cell_type": "markdown",
   "metadata": {},
   "source": [
    "# Day 01: Testing Python\n",
    "## Calculating the mean"
   ]
  },
  {
   "cell_type": "code",
   "execution_count": null,
   "metadata": {},
   "outputs": [
    {
     "name": "stdout",
     "output_type": "stream",
     "text": [
      "Der Mittelwert der Zahlen ist 4.410934744285714.\n"
     ]
    }
   ],
   "source": [
    "# import the statistics module\n",
    "import statistics\n",
    "\n",
    "\n",
    "# list with numbers\n",
    "data = [1, 2, 3, 4, 5, 6, 9.87654321]\n",
    "mean_data = statistics.mean(data)\n",
    "\n",
    "\n",
    "# print the mean of the data\n",
    "print(f\"Der Mittelwert der Zahlen ist {mean_data}.\")"
   ]
  }
 ],
 "metadata": {
  "kernelspec": {
   "display_name": "Python 3",
   "language": "python",
   "name": "python3"
  },
  "language_info": {
   "codemirror_mode": {
    "name": "ipython",
    "version": 3
   },
   "file_extension": ".py",
   "mimetype": "text/x-python",
   "name": "python",
   "nbconvert_exporter": "python",
   "pygments_lexer": "ipython3",
   "version": "3.12.1"
  }
 },
 "nbformat": 4,
 "nbformat_minor": 2
}
