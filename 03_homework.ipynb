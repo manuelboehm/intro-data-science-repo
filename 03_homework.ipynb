{
 "cells": [
  {
   "cell_type": "markdown",
   "metadata": {},
   "source": [
    "# Day 03 - Homework\n",
    "# merging dataframes"
   ]
  },
  {
   "cell_type": "code",
   "execution_count": 4,
   "metadata": {},
   "outputs": [
    {
     "name": "stdout",
     "output_type": "stream",
     "text": [
      "       Datum  Warengruppe      Umsatz  KielerWoche  Bewoelkung  Temperatur  \\\n",
      "0 2014-06-21            1  162.410673            1         6.0     15.5125   \n",
      "1 2014-06-22            1   99.627613            1         5.0     15.7000   \n",
      "2 2014-06-23            1  130.997405            1         4.0     16.5000   \n",
      "3 2014-06-24            1  119.068456            1         7.0     14.3625   \n",
      "4 2014-06-25            1  114.248640            1         0.0     18.4375   \n",
      "\n",
      "   Windgeschwindigkeit  Wettercode  \n",
      "0                   18        61.0  \n",
      "1                   19         NaN  \n",
      "2                   17         NaN  \n",
      "3                    7        21.0  \n",
      "4                   10         NaN  \n",
      "(223, 8)\n",
      "Index(['Datum', 'Warengruppe', 'Umsatz', 'KielerWoche', 'Bewoelkung',\n",
      "       'Temperatur', 'Windgeschwindigkeit', 'Wettercode'],\n",
      "      dtype='object')\n",
      "Datum                  datetime64[ns]\n",
      "Warengruppe                     int64\n",
      "Umsatz                        float64\n",
      "KielerWoche                     int64\n",
      "Bewoelkung                    float64\n",
      "Temperatur                    float64\n",
      "Windgeschwindigkeit             int64\n",
      "Wettercode                    float64\n",
      "dtype: object\n",
      "                               Datum  Warengruppe      Umsatz  KielerWoche  \\\n",
      "count                            223   223.000000  223.000000        223.0   \n",
      "mean   2016-06-23 15:23:24.484304896     2.991031  260.559219          1.0   \n",
      "min              2014-06-21 00:00:00     1.000000   46.452105          1.0   \n",
      "25%              2015-06-22 00:00:00     2.000000  127.937248          1.0   \n",
      "50%              2016-06-22 00:00:00     3.000000  213.304835          1.0   \n",
      "75%              2017-06-23 00:00:00     4.000000  368.270772          1.0   \n",
      "max              2018-06-24 00:00:00     5.000000  861.858617          1.0   \n",
      "std                              NaN     1.420541  177.014984          0.0   \n",
      "\n",
      "       Bewoelkung  Temperatur  Windgeschwindigkeit  Wettercode  \n",
      "count  223.000000  223.000000           223.000000  165.000000  \n",
      "mean     4.910314   18.418161            11.515695   48.575758  \n",
      "min      0.000000   11.562500             5.000000    0.000000  \n",
      "25%      4.000000   16.500000             8.000000   21.000000  \n",
      "50%      5.000000   18.000000            10.000000   61.000000  \n",
      "75%      7.000000   20.125000            14.000000   61.000000  \n",
      "max      8.000000   27.875000            20.000000   95.000000  \n",
      "std      2.066688    3.266123             3.986291   30.539888  \n",
      "<class 'pandas.core.frame.DataFrame'>\n",
      "RangeIndex: 223 entries, 0 to 222\n",
      "Data columns (total 8 columns):\n",
      " #   Column               Non-Null Count  Dtype         \n",
      "---  ------               --------------  -----         \n",
      " 0   Datum                223 non-null    datetime64[ns]\n",
      " 1   Warengruppe          223 non-null    int64         \n",
      " 2   Umsatz               223 non-null    float64       \n",
      " 3   KielerWoche          223 non-null    int64         \n",
      " 4   Bewoelkung           223 non-null    float64       \n",
      " 5   Temperatur           223 non-null    float64       \n",
      " 6   Windgeschwindigkeit  223 non-null    int64         \n",
      " 7   Wettercode           165 non-null    float64       \n",
      "dtypes: datetime64[ns](1), float64(4), int64(3)\n",
      "memory usage: 14.1 KB\n",
      "None\n"
     ]
    }
   ],
   "source": [
    "# merging umsatzdaten_gekuerzt.csv, kiwo.csv and wetter.csv into df umsatz_kiwo_wetter and saving it as umsatz_kiwo_wetter.csv (all in the directory /_data)\n",
    "import pandas as pd\n",
    "\n",
    "# read the data\n",
    "umsatz = pd.read_csv('_data/raw/umsatzdaten_gekuerzt.csv')\n",
    "kiwo = pd.read_csv('_data/raw/kiwo.csv')\n",
    "wetter = pd.read_csv('_data/raw/wetter.csv')\n",
    "\n",
    "# convert the date to datetime\n",
    "umsatz['Datum'] = pd.to_datetime(umsatz['Datum'])\n",
    "kiwo['Datum'] = pd.to_datetime(kiwo['Datum'])\n",
    "wetter['Datum'] = pd.to_datetime(wetter['Datum'])\n",
    "\n",
    "# merge the data\n",
    "umsatz_kiwo = pd.merge(umsatz, kiwo, on='Datum')\n",
    "umsatz_kiwo_wetter = pd.merge(umsatz_kiwo, wetter, on='Datum')\n",
    "\n",
    "# save the data\n",
    "umsatz_kiwo_wetter.to_csv('_data/umsatz_kiwo_wetter.csv', index=False)\n",
    "\n",
    "print(umsatz_kiwo_wetter.head())\n",
    "print(umsatz_kiwo_wetter.shape)\n",
    "print(umsatz_kiwo_wetter.columns)\n",
    "print(umsatz_kiwo_wetter.dtypes)\n",
    "print(umsatz_kiwo_wetter.describe())\n",
    "print(umsatz_kiwo_wetter.info())\n",
    "\n"
   ]
  }
 ],
 "metadata": {
  "kernelspec": {
   "display_name": "Python 3",
   "language": "python",
   "name": "python3"
  },
  "language_info": {
   "codemirror_mode": {
    "name": "ipython",
    "version": 3
   },
   "file_extension": ".py",
   "mimetype": "text/x-python",
   "name": "python",
   "nbconvert_exporter": "python",
   "pygments_lexer": "ipython3",
   "version": "3.12.1"
  }
 },
 "nbformat": 4,
 "nbformat_minor": 2
}
