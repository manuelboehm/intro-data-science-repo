{
 "cells": [
  {
   "cell_type": "markdown",
   "metadata": {},
   "source": [
    "# Testing python (DAY 01)\n",
    "## Calculating the mean"
   ]
  },
  {
   "cell_type": "markdown",
   "metadata": {},
   "source": [
    "#HALLO MANUEL"
   ]
  },
  {
   "cell_type": "code",
   "execution_count": null,
   "metadata": {},
   "outputs": [
    {
     "name": "stdout",
     "output_type": "stream",
     "text": [
      "Der Mittelwert der Zahlen ist 4.410934744285714.\n"
     ]
    }
   ],
   "source": [
    "# import the statistics module\n",
    "import statistics\n",
    "\n",
    "# list with numbers\n",
    "data = [1, 2, 3, 4, 5, 6, 9.87654321]\n",
    "mean_data = statistics.mean(data)\n",
    "\n",
    "# print the mean of the data\n",
    "print(f\"Der Mittelwert der Zahlen ist {mean_data}.\")"
   ]
  },
  {
   "cell_type": "markdown",
   "metadata": {},
   "source": [
    "## Data Preparation Temperature Data"
   ]
  },
  {
   "cell_type": "code",
   "execution_count": null,
   "metadata": {},
   "outputs": [
    {
     "name": "stdout",
     "output_type": "stream",
     "text": [
      "        Datum  Bewoelkung  Temperatur  Windgeschwindigkeit  Wettercode\n",
      "0  2012-01-01         8.0      9.8250                   14        58.0\n",
      "1  2012-01-02         7.0      7.4375                   12         NaN\n",
      "2  2012-01-03         8.0      5.5375                   18        63.0\n",
      "3  2012-01-04         4.0      5.6875                   19        80.0\n",
      "4  2012-01-05         6.0      5.3000                   23        80.0\n"
     ]
    }
   ],
   "source": [
    "# import the pandas module\n",
    "import pandas as pd\n",
    "# read the data from the csv file\n",
    "data_wetter = pd.read_csv(\"https://raw.githubusercontent.com/opencampus-sh/einfuehrung-in-data-science-und-ml/main/wetter.csv\")\n",
    "\n",
    "# print the first 5 rows of the data\n",
    "print(data_wetter.head())"
   ]
  },
  {
   "cell_type": "markdown",
   "metadata": {},
   "source": [
    "### Mean Temperature"
   ]
  },
  {
   "cell_type": "code",
   "execution_count": null,
   "metadata": {},
   "outputs": [
    {
     "name": "stdout",
     "output_type": "stream",
     "text": [
      "Die durchschnittliche Termpatur im Jahr beträgt 12.099585595540177.\n"
     ]
    }
   ],
   "source": [
    "# data_wetter[Temperatur]\n",
    "import statistics\n",
    "\n",
    "# calculate the yearly mean of the temperature\n",
    "temp_mean_year = statistics.mean(data_wetter[\"Temperatur\"])\n",
    "\n",
    "\n",
    "# print the yearly mean of the temperature\n",
    "print(f\"Die durchschnittliche Termpatur im Jahr beträgt {temp_mean_year}.\")"
   ]
  },
  {
   "cell_type": "markdown",
   "metadata": {},
   "source": [
    "### Mean Temperature in July (and May)"
   ]
  },
  {
   "cell_type": "code",
   "execution_count": null,
   "metadata": {},
   "outputs": [
    {
     "name": "stdout",
     "output_type": "stream",
     "text": [
      "Die durchschnittliche Temperatur beträgt im Mai 15.24 °C und im Juli 20.75 °C\n"
     ]
    }
   ],
   "source": [
    "# convert the column \"Datum\" to datetime\n",
    "data_wetter[\"Datum\"] = pd.to_datetime(data_wetter[\"Datum\"])\n",
    "\n",
    "# filter the data for the month May and July\n",
    "data_wetter_may = data_wetter[data_wetter[\"Datum\"].dt.month == 5]\n",
    "data_wetter_july = data_wetter[data_wetter[\"Datum\"].dt.month == 7]\n",
    "\n",
    "# calculate the mean of the temperature for May and July\n",
    "temp_mean_may = statistics.mean(data_wetter_may[\"Temperatur\"])\n",
    "temp_mean_july = statistics.mean(data_wetter_july[\"Temperatur\"])\n",
    "\n",
    "# print the mean of the temperature for May and July\n",
    "print(f\"Die durchschnittliche Temperatur beträgt im Mai {round(temp_mean_may, 2)} °C und im Juli {round(temp_mean_july, 2)} °C\")\n"
   ]
  },
  {
   "cell_type": "markdown",
   "metadata": {},
   "source": [
    "### Comparison: Do July and May Differ Significantly Regarding Their Mean Temperature?\n",
    "(t-Test für unabhängige Stichproben)"
   ]
  },
  {
   "cell_type": "code",
   "execution_count": null,
   "metadata": {},
   "outputs": [
    {
     "name": "stdout",
     "output_type": "stream",
     "text": [
      "Die Temperaturunterschiede sind signifikant (p-Wert = 0.0).\n"
     ]
    }
   ],
   "source": [
    "# import the ttest_ind function from the scipy.stats module\n",
    "from scipy.stats import ttest_ind\n",
    "\n",
    "# perform a t-test for the temperature in May and July\n",
    "t_stat, p_value = ttest_ind(data_wetter_may[\"Temperatur\"], data_wetter_july[\"Temperatur\"], equal_var=False)\n",
    "\n",
    "# print the p-value\n",
    "alpha = 0.05  # significance level of 5%\n",
    "if p_value < alpha: # alternative hypothesis: the temperature in May and July is significantly different\n",
    "    print(f\"Die Temperaturunterschiede sind signifikant (p-Wert = {round(p_value, 4)}).\")\n",
    "else: # null hypothesis: there is no significant difference in the temperature in May and July\n",
    "    print(f\"Es gibt keinen signifikanten Unterschied in der Durchschnittstemperatur (p-Wert = {round(p_value, 4)}).\")\n"
   ]
  }
 ],
 "metadata": {
  "kernelspec": {
   "display_name": "Python 3",
   "language": "python",
   "name": "python3"
  },
  "language_info": {
   "codemirror_mode": {
    "name": "ipython",
    "version": 3
   },
   "file_extension": ".py",
   "mimetype": "text/x-python",
   "name": "python",
   "nbconvert_exporter": "python",
   "pygments_lexer": "ipython3",
   "version": "3.12.1"
  }
 },
 "nbformat": 4,
 "nbformat_minor": 2
}
